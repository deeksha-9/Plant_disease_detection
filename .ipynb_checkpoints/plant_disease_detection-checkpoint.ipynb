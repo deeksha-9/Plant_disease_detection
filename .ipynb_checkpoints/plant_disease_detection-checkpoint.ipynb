{
 "cells": [
  {
   "cell_type": "code",
   "execution_count": 1,
   "metadata": {},
   "outputs": [],
   "source": [
    "import tensorflow as tf\n",
    "from tensorflow.keras.layers import Flatten,Activation,Dense,Conv2D,MaxPooling2D,Dropout\n",
    "from tensorflow.keras.models import Sequential\n",
    "from tensorflow.keras.layers import BatchNormalization\n",
    "from tensorflow.keras import regularizers\n",
    "from sklearn.model_selection import train_test_split\n",
    "from tensorflow.keras.preprocessing.image import ImageDataGenerator\n",
    "from tensorflow import keras\n",
    "from tensorflow.keras.models import Model\n",
    "import cv2                \n",
    "import numpy as np          \n",
    "import os                  \n",
    "from random import shuffle      \n",
    "import matplotlib.pyplot as plt "
   ]
  },
  {
   "cell_type": "code",
   "execution_count": 2,
   "metadata": {},
   "outputs": [],
   "source": [
    "import warnings\n",
    "warnings.filterwarnings('ignore')"
   ]
  },
  {
   "cell_type": "code",
   "execution_count": 3,
   "metadata": {},
   "outputs": [],
   "source": [
    "os.chdir(\"C:/Users/Deeksha Priya/Desktop/Plant disease prediction/PlantVillage\")"
   ]
  },
  {
   "cell_type": "code",
   "execution_count": 4,
   "metadata": {},
   "outputs": [],
   "source": [
    "cur_path = os.getcwd()"
   ]
  },
  {
   "cell_type": "code",
   "execution_count": 5,
   "metadata": {},
   "outputs": [
    {
     "data": {
      "text/plain": [
       "'C:\\\\Users\\\\Deeksha Priya\\\\Desktop\\\\Plant disease prediction\\\\PlantVillage'"
      ]
     },
     "execution_count": 5,
     "metadata": {},
     "output_type": "execute_result"
    }
   ],
   "source": [
    "cur_path"
   ]
  },
  {
   "cell_type": "code",
   "execution_count": 6,
   "metadata": {},
   "outputs": [],
   "source": [
    "img_size =128\n",
    "input_shape=(img_size,img_size,3)"
   ]
  },
  {
   "cell_type": "code",
   "execution_count": 7,
   "metadata": {},
   "outputs": [],
   "source": [
    "def label_imgv2(word_label):\n",
    "    if word_label == 'Pepper__bell___Bacterial_spot': return 0\n",
    "    elif word_label == 'Pepper__bell___healthy': return 1\n",
    "    elif word_label == 'Potato___Early_blight': return 2\n",
    "    elif word_label == 'Potato___healthy': return 3\n",
    "    elif word_label == 'Potato___Late_blight': return 4\n",
    "    elif word_label == 'Tomato__Target_Spot': return 5\n",
    "    elif word_label == 'Tomato__Tomato_mosaic_virus': return 6\n",
    "    elif word_label == 'Tomato__Tomato_YellowLeaf__Curl_Virus': return 7\n",
    "    elif word_label == 'Tomato_Bacterial_spot': return 8\n",
    "    elif word_label == 'Tomato_Early_blight': return 9\n",
    "    elif word_label == 'Tomato_healthy': return 10\n",
    "    elif word_label == 'Tomato_Late_blight': return 11\n",
    "    elif word_label == 'Tomato_Leaf_Mold': return 12\n",
    "    elif word_label == 'Tomato_Septoria_leaf_spot': return 13\n",
    "    elif word_label == 'Tomato_Spider_mites_Two_spotted_spider_mite': return 14"
   ]
  },
  {
   "cell_type": "code",
   "execution_count": 8,
   "metadata": {},
   "outputs": [
    {
     "name": "stdout",
     "output_type": "stream",
     "text": [
      "C:\\Users\\Deeksha Priya\\Desktop\\Plant disease prediction\\PlantVillage/PlantVillage\\Pepper__bell___Bacterial_spot\n",
      "C:\\Users\\Deeksha Priya\\Desktop\\Plant disease prediction\\PlantVillage/PlantVillage\\Pepper__bell___healthy\n",
      "C:\\Users\\Deeksha Priya\\Desktop\\Plant disease prediction\\PlantVillage/PlantVillage\\Potato___Early_blight\n",
      "C:\\Users\\Deeksha Priya\\Desktop\\Plant disease prediction\\PlantVillage/PlantVillage\\Potato___healthy\n",
      "C:\\Users\\Deeksha Priya\\Desktop\\Plant disease prediction\\PlantVillage/PlantVillage\\Potato___Late_blight\n",
      "C:\\Users\\Deeksha Priya\\Desktop\\Plant disease prediction\\PlantVillage/PlantVillage\\Tomato_Bacterial_spot\n",
      "C:\\Users\\Deeksha Priya\\Desktop\\Plant disease prediction\\PlantVillage/PlantVillage\\Tomato_Early_blight\n",
      "C:\\Users\\Deeksha Priya\\Desktop\\Plant disease prediction\\PlantVillage/PlantVillage\\Tomato_healthy\n",
      "C:\\Users\\Deeksha Priya\\Desktop\\Plant disease prediction\\PlantVillage/PlantVillage\\Tomato_Late_blight\n",
      "C:\\Users\\Deeksha Priya\\Desktop\\Plant disease prediction\\PlantVillage/PlantVillage\\Tomato_Leaf_Mold\n",
      "C:\\Users\\Deeksha Priya\\Desktop\\Plant disease prediction\\PlantVillage/PlantVillage\\Tomato_Septoria_leaf_spot\n",
      "C:\\Users\\Deeksha Priya\\Desktop\\Plant disease prediction\\PlantVillage/PlantVillage\\Tomato_Spider_mites_Two_spotted_spider_mite\n",
      "C:\\Users\\Deeksha Priya\\Desktop\\Plant disease prediction\\PlantVillage/PlantVillage\\Tomato__Target_Spot\n",
      "C:\\Users\\Deeksha Priya\\Desktop\\Plant disease prediction\\PlantVillage/PlantVillage\\Tomato__Tomato_mosaic_virus\n",
      "C:\\Users\\Deeksha Priya\\Desktop\\Plant disease prediction\\PlantVillage/PlantVillage\\Tomato__Tomato_YellowLeaf__Curl_Virus\n"
     ]
    }
   ],
   "source": [
    "def create_train_data():\n",
    "    training_data = []\n",
    "    \n",
    "    for folder in os.listdir(cur_path):\n",
    "        i=0\n",
    "        for img in os.listdir(cur_path+\"/\"+folder):\n",
    "            i+=1\n",
    "            path = os.path.join(cur_path+\"/\"+folder,img)\n",
    "            \n",
    "            try:\n",
    "                label = label_imgv2(folder)\n",
    "                img = cv2.imread(path,cv2.IMREAD_COLOR)\n",
    "                img = cv2.resize(img, (img_size,img_size))\n",
    "                training_data.append([np.array(img),np.array(label)])\n",
    "            \n",
    "            except:\n",
    "                print(path)\n",
    "            if i==500:\n",
    "                break\n",
    "\n",
    "    shuffle(training_data)\n",
    "    return training_data\n",
    "\n",
    "train_data = create_train_data()"
   ]
  },
  {
   "cell_type": "code",
   "execution_count": 9,
   "metadata": {},
   "outputs": [
    {
     "data": {
      "text/plain": [
       "(7025, 128, 128, 3)"
      ]
     },
     "execution_count": 9,
     "metadata": {},
     "output_type": "execute_result"
    }
   ],
   "source": [
    "train_y=np.array([i[1] for i in train_data])\n",
    "train_x=np.array([i[0] for i in train_data]).reshape(-1,img_size,img_size,3)\n",
    "\n",
    "train_x.shape"
   ]
  },
  {
   "cell_type": "code",
   "execution_count": 10,
   "metadata": {},
   "outputs": [],
   "source": [
    "train_x=train_x/255\n",
    "x_train,x_test,y_train,y_test=train_test_split(train_x,train_y,test_size=0.2)"
   ]
  },
  {
   "cell_type": "code",
   "execution_count": 11,
   "metadata": {},
   "outputs": [],
   "source": [
    "train_datagen = ImageDataGenerator(zoom_range=0.1, rotation_range=50,\n",
    "                                   width_shift_range=0.1, height_shift_range=0.1, shear_range=0.2, \n",
    "                                   horizontal_flip=True, fill_mode='nearest')\n",
    "\n",
    "val_datagen = ImageDataGenerator()\n",
    "train_generator = train_datagen.flow(x_train, y_train, batch_size=32)\n",
    "val_generator = val_datagen.flow(x_test, y_test, batch_size=20)"
   ]
  },
  {
   "cell_type": "code",
   "execution_count": 12,
   "metadata": {},
   "outputs": [
    {
     "name": "stdout",
     "output_type": "stream",
     "text": [
      "Model: \"sequential\"\n",
      "_________________________________________________________________\n",
      " Layer (type)                Output Shape              Param #   \n",
      "=================================================================\n",
      " conv2d (Conv2D)             (None, 126, 126, 32)      896       \n",
      "                                                                 \n",
      " batch_normalization (BatchN  (None, 126, 126, 32)     504       \n",
      " ormalization)                                                   \n",
      "                                                                 \n",
      " max_pooling2d (MaxPooling2D  (None, 63, 63, 32)       0         \n",
      " )                                                               \n",
      "                                                                 \n",
      " conv2d_1 (Conv2D)           (None, 61, 61, 64)        18496     \n",
      "                                                                 \n",
      " batch_normalization_1 (Batc  (None, 61, 61, 64)       244       \n",
      " hNormalization)                                                 \n",
      "                                                                 \n",
      " max_pooling2d_1 (MaxPooling  (None, 30, 30, 64)       0         \n",
      " 2D)                                                             \n",
      "                                                                 \n",
      " conv2d_2 (Conv2D)           (None, 28, 28, 64)        36928     \n",
      "                                                                 \n",
      " batch_normalization_2 (Batc  (None, 28, 28, 64)       112       \n",
      " hNormalization)                                                 \n",
      "                                                                 \n",
      " max_pooling2d_2 (MaxPooling  (None, 14, 14, 64)       0         \n",
      " 2D)                                                             \n",
      "                                                                 \n",
      " conv2d_3 (Conv2D)           (None, 12, 12, 32)        18464     \n",
      "                                                                 \n",
      " batch_normalization_3 (Batc  (None, 12, 12, 32)       48        \n",
      " hNormalization)                                                 \n",
      "                                                                 \n",
      " max_pooling2d_3 (MaxPooling  (None, 6, 6, 32)         0         \n",
      " 2D)                                                             \n",
      "                                                                 \n",
      " flatten (Flatten)           (None, 1152)              0         \n",
      "                                                                 \n",
      " dense (Dense)               (None, 512)               590336    \n",
      "                                                                 \n",
      " dropout (Dropout)           (None, 512)               0         \n",
      "                                                                 \n",
      " dense_1 (Dense)             (None, 512)               262656    \n",
      "                                                                 \n",
      " dropout_1 (Dropout)         (None, 512)               0         \n",
      "                                                                 \n",
      " dense_2 (Dense)             (None, 15)                7695      \n",
      "                                                                 \n",
      "=================================================================\n",
      "Total params: 936,379\n",
      "Trainable params: 935,925\n",
      "Non-trainable params: 454\n",
      "_________________________________________________________________\n"
     ]
    }
   ],
   "source": [
    "model = Sequential()\n",
    "\n",
    "model.add(Conv2D(32, kernel_size=(3, 3), activation='relu', \n",
    "                 input_shape=(img_size,img_size,3)))\n",
    "model.add(BatchNormalization(axis=1))\n",
    "model.add(MaxPooling2D(pool_size=(2, 2)))\n",
    "\n",
    "model.add(Conv2D(64, kernel_size=(3, 3), activation='relu'))\n",
    "model.add(BatchNormalization(axis=1))\n",
    "model.add(MaxPooling2D(pool_size=(2, 2)))\n",
    "\n",
    "#model.add(Conv2D(128, kernel_size=(3, 3), activation='relu'))\n",
    "#model.add(MaxPooling2D(pool_size=(2, 2)))\n",
    "\n",
    "model.add(Conv2D(64, kernel_size=(3, 3), activation='relu'))\n",
    "model.add(BatchNormalization(axis=1))\n",
    "model.add(MaxPooling2D(pool_size=(2, 2)))\n",
    "\n",
    "model.add(Conv2D(32, kernel_size=(3, 3), activation='relu'))\n",
    "model.add(BatchNormalization(axis=1))\n",
    "model.add(MaxPooling2D(pool_size=(2, 2)))\n",
    "\n",
    "model.add(Flatten())\n",
    "model.add(Dense(512, activation='relu'))\n",
    "model.add(Dropout(0.2))\n",
    "model.add(Dense(512, activation='relu'))\n",
    "\n",
    "model.add(Dropout(0.2))\n",
    "model.add(Dense(15, activation='softmax'))\n",
    "\n",
    "opt = tf.keras.optimizers.Adam(learning_rate=0.0001)\n",
    "model.compile(loss='sparse_categorical_crossentropy',optimizer=opt,metrics=['accuracy'])\n",
    "model.summary()"
   ]
  },
  {
   "cell_type": "code",
   "execution_count": 13,
   "metadata": {},
   "outputs": [
    {
     "name": "stdout",
     "output_type": "stream",
     "text": [
      "Epoch 1/20\n",
      "88/88 [==============================] - 211s 2s/step - loss: 2.3611 - accuracy: 0.2454 - val_loss: 2.8115 - val_accuracy: 0.0719\n",
      "Epoch 2/20\n",
      "88/88 [==============================] - 192s 2s/step - loss: 1.5746 - accuracy: 0.4972 - val_loss: 3.0276 - val_accuracy: 0.1203\n",
      "Epoch 3/20\n",
      "88/88 [==============================] - 194s 2s/step - loss: 1.1406 - accuracy: 0.6329 - val_loss: 3.0000 - val_accuracy: 0.1445\n",
      "Epoch 4/20\n",
      "88/88 [==============================] - 196s 2s/step - loss: 0.8793 - accuracy: 0.7103 - val_loss: 2.3338 - val_accuracy: 0.2178\n",
      "Epoch 5/20\n",
      "88/88 [==============================] - 194s 2s/step - loss: 0.7320 - accuracy: 0.7637 - val_loss: 1.5546 - val_accuracy: 0.4868\n",
      "Epoch 6/20\n",
      "88/88 [==============================] - 194s 2s/step - loss: 0.6137 - accuracy: 0.7995 - val_loss: 0.8399 - val_accuracy: 0.7160\n",
      "Epoch 7/20\n",
      "88/88 [==============================] - 194s 2s/step - loss: 0.5085 - accuracy: 0.8281 - val_loss: 0.6370 - val_accuracy: 0.7829\n",
      "Epoch 8/20\n",
      "88/88 [==============================] - 194s 2s/step - loss: 0.4362 - accuracy: 0.8564 - val_loss: 0.5897 - val_accuracy: 0.7964\n",
      "Epoch 9/20\n",
      "88/88 [==============================] - 191s 2s/step - loss: 0.3856 - accuracy: 0.8737 - val_loss: 0.5383 - val_accuracy: 0.8171\n",
      "Epoch 10/20\n",
      "88/88 [==============================] - 191s 2s/step - loss: 0.3164 - accuracy: 0.8970 - val_loss: 0.5174 - val_accuracy: 0.8206\n",
      "Epoch 11/20\n",
      "88/88 [==============================] - 195s 2s/step - loss: 0.2728 - accuracy: 0.9094 - val_loss: 0.4964 - val_accuracy: 0.8299\n",
      "Epoch 12/20\n",
      "88/88 [==============================] - 196s 2s/step - loss: 0.2323 - accuracy: 0.9301 - val_loss: 0.4427 - val_accuracy: 0.8527\n",
      "Epoch 13/20\n",
      "88/88 [==============================] - 195s 2s/step - loss: 0.2278 - accuracy: 0.9278 - val_loss: 0.4514 - val_accuracy: 0.8427\n",
      "Epoch 14/20\n",
      "88/88 [==============================] - 196s 2s/step - loss: 0.1874 - accuracy: 0.9402 - val_loss: 0.4429 - val_accuracy: 0.8456\n",
      "Epoch 15/20\n",
      "88/88 [==============================] - 195s 2s/step - loss: 0.1622 - accuracy: 0.9500 - val_loss: 0.4397 - val_accuracy: 0.8527\n",
      "Epoch 16/20\n",
      "88/88 [==============================] - 195s 2s/step - loss: 0.1490 - accuracy: 0.9534 - val_loss: 0.4447 - val_accuracy: 0.8463\n",
      "Epoch 17/20\n",
      "88/88 [==============================] - 195s 2s/step - loss: 0.1318 - accuracy: 0.9594 - val_loss: 0.4125 - val_accuracy: 0.8676\n",
      "Epoch 18/20\n",
      "88/88 [==============================] - 195s 2s/step - loss: 0.1034 - accuracy: 0.9703 - val_loss: 0.4577 - val_accuracy: 0.8527\n",
      "Epoch 19/20\n",
      "88/88 [==============================] - 195s 2s/step - loss: 0.1021 - accuracy: 0.9690 - val_loss: 0.4535 - val_accuracy: 0.8562\n",
      "Epoch 20/20\n",
      "88/88 [==============================] - 194s 2s/step - loss: 0.0817 - accuracy: 0.9774 - val_loss: 0.4292 - val_accuracy: 0.8598\n"
     ]
    }
   ],
   "source": [
    "custom=model.fit(x_train,y_train,epochs=20,batch_size=64,validation_data=(x_test,y_test))"
   ]
  },
  {
   "cell_type": "code",
   "execution_count": 14,
   "metadata": {},
   "outputs": [
    {
     "data": {
      "text/plain": [
       "array([[9.8565245e-01, 1.4330439e-02, 5.5496527e-09, ..., 1.2056509e-08,\n",
       "        7.3899709e-09, 6.8446377e-07],\n",
       "       [3.1104443e-09, 7.9436119e-10, 2.7201685e-10, ..., 1.7532466e-05,\n",
       "        5.4556417e-04, 2.2479706e-04],\n",
       "       [6.7028856e-07, 5.4926996e-08, 6.1509105e-08, ..., 4.6736259e-06,\n",
       "        4.7483932e-06, 1.2114853e-06],\n",
       "       ...,\n",
       "       [1.0023941e-10, 9.5456343e-10, 4.8039288e-07, ..., 6.9824232e-08,\n",
       "        1.2564071e-07, 2.4184141e-05],\n",
       "       [1.5091750e-06, 9.9997270e-01, 8.6751282e-09, ..., 7.5306833e-10,\n",
       "        2.2235763e-05, 1.9857356e-10],\n",
       "       [3.9380807e-06, 1.5755882e-07, 1.1842341e-06, ..., 3.2538699e-06,\n",
       "        5.8618690e-07, 1.8195030e-06]], dtype=float32)"
      ]
     },
     "execution_count": 14,
     "metadata": {},
     "output_type": "execute_result"
    }
   ],
   "source": [
    "predictions = model.predict(x_test)\n",
    "predictions"
   ]
  },
  {
   "cell_type": "code",
   "execution_count": 16,
   "metadata": {},
   "outputs": [],
   "source": [
    "y_preds = [np.argmax(i) for i in predictions]"
   ]
  },
  {
   "cell_type": "code",
   "execution_count": 17,
   "metadata": {},
   "outputs": [
    {
     "name": "stdout",
     "output_type": "stream",
     "text": [
      "[[ 92  10   0   0   0   0   0   0   0   1   0   1   1   1   2]\n",
      " [  1  98   0   0   0   0   0   0   0   0   0   1   0   0   0]\n",
      " [  0   0 105   0   3   0   0   0   0   0   0   0   0   0   0]\n",
      " [  1   1   0  15   1   0   0   1   0   0   0   0   0   1   0]\n",
      " [  1   0   1   1  74   0   0   1   1   2   0   5   1   2   0]\n",
      " [  2   0   0   0   1  74   1   0   2   1   2   0   0   0   8]\n",
      " [  0   0   0   0   0   0  73   0   0   1   0   0   1   0   0]\n",
      " [  1   0   0   0   1   0   0  90   2   1   0   1   0   0   1]\n",
      " [  0   0   0   0   0   0   0   1  98   2   0   0   0   0   0]\n",
      " [  4   1   1   0   3   6   0   2   3  63   0  12   0   4   2]\n",
      " [  0   0   0   0   0   0   0   0   0   0 105   1   0   0   0]\n",
      " [  2   1   4   1   2   0   0   0   2   9   2  77   2   2   0]\n",
      " [  2   0   0   0   1   1   0   0   0   1   0   1  80   6   3]\n",
      " [  3   7   1   0   0   1   1   1   3   1   0   0   6  80   0]\n",
      " [  0   0   0   0   1  11   0   2   0   4   0   1   1   2  84]]\n",
      "              precision    recall  f1-score   support\n",
      "\n",
      "           0       0.84      0.85      0.85       108\n",
      "           1       0.83      0.98      0.90       100\n",
      "           2       0.94      0.97      0.95       108\n",
      "           3       0.88      0.75      0.81        20\n",
      "           4       0.85      0.83      0.84        89\n",
      "           5       0.80      0.81      0.80        91\n",
      "           6       0.97      0.97      0.97        75\n",
      "           7       0.92      0.93      0.92        97\n",
      "           8       0.88      0.97      0.92       101\n",
      "           9       0.73      0.62      0.67       101\n",
      "          10       0.96      0.99      0.98       106\n",
      "          11       0.77      0.74      0.75       104\n",
      "          12       0.87      0.84      0.86        95\n",
      "          13       0.82      0.77      0.79       104\n",
      "          14       0.84      0.79      0.82       106\n",
      "\n",
      "    accuracy                           0.86      1405\n",
      "   macro avg       0.86      0.86      0.86      1405\n",
      "weighted avg       0.86      0.86      0.86      1405\n",
      "\n"
     ]
    }
   ],
   "source": [
    "from sklearn import metrics\n",
    "print(metrics.confusion_matrix(y_test,y_preds))\n",
    "print(metrics.classification_report(y_test,y_preds))"
   ]
  },
  {
   "cell_type": "code",
   "execution_count": null,
   "metadata": {},
   "outputs": [
    {
     "name": "stdout",
     "output_type": "stream",
     "text": [
      "Epoch 1/50\n",
      "176/176 [==============================] - 201s 1s/step - loss: 0.9157 - accuracy: 0.7093 - val_loss: 0.6401 - val_accuracy: 0.7829\n",
      "Epoch 2/50\n",
      "176/176 [==============================] - 198s 1s/step - loss: 0.7138 - accuracy: 0.7552 - val_loss: 0.5690 - val_accuracy: 0.8014\n",
      "Epoch 3/50\n",
      "176/176 [==============================] - 196s 1s/step - loss: 0.6287 - accuracy: 0.7822 - val_loss: 0.6018 - val_accuracy: 0.7900\n",
      "Epoch 4/50\n",
      "176/176 [==============================] - 198s 1s/step - loss: 0.5781 - accuracy: 0.8053 - val_loss: 0.9571 - val_accuracy: 0.7196\n",
      "Epoch 5/50\n",
      "176/176 [==============================] - 197s 1s/step - loss: 0.5591 - accuracy: 0.8096 - val_loss: 0.6736 - val_accuracy: 0.7722\n",
      "Epoch 6/50\n",
      "176/176 [==============================] - 301s 2s/step - loss: 0.5099 - accuracy: 0.8253 - val_loss: 0.7512 - val_accuracy: 0.7495\n",
      "Epoch 7/50\n",
      "176/176 [==============================] - 348s 2s/step - loss: 0.4814 - accuracy: 0.8349 - val_loss: 1.2197 - val_accuracy: 0.6776\n",
      "Epoch 8/50\n",
      "176/176 [==============================] - ETA: 0s - loss: 0.4524 - accuracy: 0.8477"
     ]
    }
   ],
   "source": [
    "custom = model.fit_generator(train_generator, epochs=50, validation_data=val_generator, verbose=1)"
   ]
  },
  {
   "cell_type": "code",
   "execution_count": null,
   "metadata": {},
   "outputs": [],
   "source": []
  }
 ],
 "metadata": {
  "kernelspec": {
   "display_name": "Python 3 (ipykernel)",
   "language": "python",
   "name": "python3"
  },
  "language_info": {
   "codemirror_mode": {
    "name": "ipython",
    "version": 3
   },
   "file_extension": ".py",
   "mimetype": "text/x-python",
   "name": "python",
   "nbconvert_exporter": "python",
   "pygments_lexer": "ipython3",
   "version": "3.8.12"
  }
 },
 "nbformat": 4,
 "nbformat_minor": 4
}
